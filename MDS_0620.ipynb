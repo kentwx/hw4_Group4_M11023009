{
 "cells": [
  {
   "cell_type": "code",
   "execution_count": 1,
   "id": "e2d0b4ab",
   "metadata": {
    "scrolled": true
   },
   "outputs": [],
   "source": [
    "import numpy as np\n",
    "import pandas as pd\n",
    "import haversine\n",
    "from sklearn.manifold import MDS\n",
    "import matplotlib.pyplot as plt\n",
    "from matplotlib.pyplot import MultipleLocator"
   ]
  },
  {
   "cell_type": "code",
   "execution_count": 2,
   "id": "0b8bc065",
   "metadata": {},
   "outputs": [],
   "source": [
    "#https://www.gushiciku.cn/pl/pTkV/zh-tw\n",
    "\n",
    "from haversine import haversine, Unit\n",
    "from geopy.distance import geodesic\n",
    "import math \n",
    "\n",
    "\n",
    "# 計算距離\n",
    "def getDistance(latA, lonA, latB, lonB):\n",
    "    point1 = (latA, lonA)\n",
    "    point2 = (latB, lonB)\n",
    "    #result1 = haversine(point1, point2)\n",
    "    #result1 = geodesic(point1, point2).km\n",
    "    result1=math.sqrt((latA-latB)**2+(lonA-lonB)**2)\n",
    "    \n",
    "   \n",
    "    \n",
    "    return result1"
   ]
  },
  {
   "cell_type": "markdown",
   "id": "b31f1359",
   "metadata": {},
   "source": [
    "# 列出車站經緯度"
   ]
  },
  {
   "cell_type": "code",
   "execution_count": 3,
   "id": "8c527270",
   "metadata": {},
   "outputs": [
    {
     "data": {
      "text/html": [
       "<div>\n",
       "<style scoped>\n",
       "    .dataframe tbody tr th:only-of-type {\n",
       "        vertical-align: middle;\n",
       "    }\n",
       "\n",
       "    .dataframe tbody tr th {\n",
       "        vertical-align: top;\n",
       "    }\n",
       "\n",
       "    .dataframe thead th {\n",
       "        text-align: right;\n",
       "    }\n",
       "</style>\n",
       "<table border=\"1\" class=\"dataframe\">\n",
       "  <thead>\n",
       "    <tr style=\"text-align: right;\">\n",
       "      <th></th>\n",
       "      <th>lat</th>\n",
       "      <th>lon</th>\n",
       "    </tr>\n",
       "  </thead>\n",
       "  <tbody>\n",
       "    <tr>\n",
       "      <th>Taipei</th>\n",
       "      <td>25.047889</td>\n",
       "      <td>121.516276</td>\n",
       "    </tr>\n",
       "    <tr>\n",
       "      <th>Hsinchu</th>\n",
       "      <td>24.808418</td>\n",
       "      <td>121.040202</td>\n",
       "    </tr>\n",
       "    <tr>\n",
       "      <th>Taichung</th>\n",
       "      <td>24.112414</td>\n",
       "      <td>120.616053</td>\n",
       "    </tr>\n",
       "    <tr>\n",
       "      <th>Tainan</th>\n",
       "      <td>22.924917</td>\n",
       "      <td>120.285587</td>\n",
       "    </tr>\n",
       "    <tr>\n",
       "      <th>Kaohsiung</th>\n",
       "      <td>22.688146</td>\n",
       "      <td>120.309029</td>\n",
       "    </tr>\n",
       "    <tr>\n",
       "      <th>Hualien</th>\n",
       "      <td>23.497385</td>\n",
       "      <td>121.376841</td>\n",
       "    </tr>\n",
       "    <tr>\n",
       "      <th>Taitung</th>\n",
       "      <td>23.126116</td>\n",
       "      <td>121.219467</td>\n",
       "    </tr>\n",
       "  </tbody>\n",
       "</table>\n",
       "</div>"
      ],
      "text/plain": [
       "                 lat         lon\n",
       "Taipei     25.047889  121.516276\n",
       "Hsinchu    24.808418  121.040202\n",
       "Taichung   24.112414  120.616053\n",
       "Tainan     22.924917  120.285587\n",
       "Kaohsiung  22.688146  120.309029\n",
       "Hualien    23.497385  121.376841\n",
       "Taitung    23.126116  121.219467"
      ]
     },
     "execution_count": 3,
     "metadata": {},
     "output_type": "execute_result"
    }
   ],
   "source": [
    "'''\n",
    "車站經緯度參考Google Map：\n",
    "台北高鐵 25.047889128795028, 121.51627579892524\n",
    "新竹高鐵 24.808418091431978, 121.04020158289345\n",
    "台中高鐵 24.11241418027106, 120.61605343870609\n",
    "台南高鐵 22.924916665343844, 120.2855868963668\n",
    "高雄高鐵 22.688146443931807, 120.30902853869263\n",
    "花蓮瑞穗 23.497384823901992, 121.37684099773809\n",
    "台東池上 23.12611585827578, 121.21946711926812\n",
    "'''\n",
    "\n",
    "data = np.array([(25.047889128795028,121.51627579892524),\n",
    "                 (24.808418091431978,121.04020158289345),\n",
    "                 (24.11241418027106,120.61605343870609),                 \n",
    "                 (22.924916665343844,120.2855868963668),\n",
    "                 (22.688146443931807,120.30902853869263),    \n",
    "                 (23.497384823901992,121.37684099773809),\n",
    "                 (23.12611585827578,121.21946711926812),\n",
    "                ]\n",
    "               )\n",
    "\n",
    "index = ['Taipei','Hsinchu','Taichung','Tainan','Kaohsiung','Hualien','Taitung']\n",
    "columns = ['lat','lon']\n",
    "Word = pd.DataFrame(data,index,columns)\n",
    "Word"
   ]
  },
  {
   "cell_type": "markdown",
   "id": "406ae508",
   "metadata": {},
   "source": [
    "# 計算車站間的距離"
   ]
  },
  {
   "cell_type": "code",
   "execution_count": 4,
   "id": "b53a2b28",
   "metadata": {},
   "outputs": [
    {
     "name": "stdout",
     "output_type": "stream",
     "text": [
      "[[0.0, 0.5329099707324108, 1.2982733445443801, 2.4538963416274306, 2.6506285077514384, 1.556761273694183, 1.9445585348870424], [0.5329099707324108, 0.0, 0.8150601772684479, 2.029044343329576, 2.2428031299601354, 1.3535635648898405, 1.691826508899191], [1.2982733445443801, 0.8150601772684479, 0.0, 1.2326226038670565, 1.4569841708149114, 0.9782938306938324, 1.1562406539557906], [2.4538963416274306, 2.029044343329576, 1.2326226038670565, 0.0, 0.2379278217074192, 1.2322967606557365, 0.9553080058089575], [2.6506285077514384, 2.2428031299601354, 1.4569841708149114, 0.2379278217074192, 0.0, 1.3398097638506272, 1.010304714876216], [1.556761273694183, 1.3535635648898405, 0.9782938306938324, 1.2322967606557365, 1.3398097638506272, 0.0, 0.4032458089823586], [1.9445585348870424, 1.691826508899191, 1.1562406539557906, 0.9553080058089575, 1.010304714876216, 0.4032458089823586, 0.0]]\n"
     ]
    },
    {
     "data": {
      "text/html": [
       "<div>\n",
       "<style scoped>\n",
       "    .dataframe tbody tr th:only-of-type {\n",
       "        vertical-align: middle;\n",
       "    }\n",
       "\n",
       "    .dataframe tbody tr th {\n",
       "        vertical-align: top;\n",
       "    }\n",
       "\n",
       "    .dataframe thead th {\n",
       "        text-align: right;\n",
       "    }\n",
       "</style>\n",
       "<table border=\"1\" class=\"dataframe\">\n",
       "  <thead>\n",
       "    <tr style=\"text-align: right;\">\n",
       "      <th></th>\n",
       "      <th>Taipei</th>\n",
       "      <th>Hsinchu</th>\n",
       "      <th>Taichung</th>\n",
       "      <th>Tainan</th>\n",
       "      <th>Kaohsiung</th>\n",
       "      <th>Hualien</th>\n",
       "      <th>Taitung</th>\n",
       "    </tr>\n",
       "  </thead>\n",
       "  <tbody>\n",
       "    <tr>\n",
       "      <th>Taipei</th>\n",
       "      <td>0.000000</td>\n",
       "      <td>0.532910</td>\n",
       "      <td>1.298273</td>\n",
       "      <td>2.453896</td>\n",
       "      <td>2.650629</td>\n",
       "      <td>1.556761</td>\n",
       "      <td>1.944559</td>\n",
       "    </tr>\n",
       "    <tr>\n",
       "      <th>Hsinchu</th>\n",
       "      <td>0.532910</td>\n",
       "      <td>0.000000</td>\n",
       "      <td>0.815060</td>\n",
       "      <td>2.029044</td>\n",
       "      <td>2.242803</td>\n",
       "      <td>1.353564</td>\n",
       "      <td>1.691827</td>\n",
       "    </tr>\n",
       "    <tr>\n",
       "      <th>Taichung</th>\n",
       "      <td>1.298273</td>\n",
       "      <td>0.815060</td>\n",
       "      <td>0.000000</td>\n",
       "      <td>1.232623</td>\n",
       "      <td>1.456984</td>\n",
       "      <td>0.978294</td>\n",
       "      <td>1.156241</td>\n",
       "    </tr>\n",
       "    <tr>\n",
       "      <th>Tainan</th>\n",
       "      <td>2.453896</td>\n",
       "      <td>2.029044</td>\n",
       "      <td>1.232623</td>\n",
       "      <td>0.000000</td>\n",
       "      <td>0.237928</td>\n",
       "      <td>1.232297</td>\n",
       "      <td>0.955308</td>\n",
       "    </tr>\n",
       "    <tr>\n",
       "      <th>Kaohsiung</th>\n",
       "      <td>2.650629</td>\n",
       "      <td>2.242803</td>\n",
       "      <td>1.456984</td>\n",
       "      <td>0.237928</td>\n",
       "      <td>0.000000</td>\n",
       "      <td>1.339810</td>\n",
       "      <td>1.010305</td>\n",
       "    </tr>\n",
       "    <tr>\n",
       "      <th>Hualien</th>\n",
       "      <td>1.556761</td>\n",
       "      <td>1.353564</td>\n",
       "      <td>0.978294</td>\n",
       "      <td>1.232297</td>\n",
       "      <td>1.339810</td>\n",
       "      <td>0.000000</td>\n",
       "      <td>0.403246</td>\n",
       "    </tr>\n",
       "    <tr>\n",
       "      <th>Taitung</th>\n",
       "      <td>1.944559</td>\n",
       "      <td>1.691827</td>\n",
       "      <td>1.156241</td>\n",
       "      <td>0.955308</td>\n",
       "      <td>1.010305</td>\n",
       "      <td>0.403246</td>\n",
       "      <td>0.000000</td>\n",
       "    </tr>\n",
       "  </tbody>\n",
       "</table>\n",
       "</div>"
      ],
      "text/plain": [
       "             Taipei   Hsinchu  Taichung    Tainan  Kaohsiung   Hualien  \\\n",
       "Taipei     0.000000  0.532910  1.298273  2.453896   2.650629  1.556761   \n",
       "Hsinchu    0.532910  0.000000  0.815060  2.029044   2.242803  1.353564   \n",
       "Taichung   1.298273  0.815060  0.000000  1.232623   1.456984  0.978294   \n",
       "Tainan     2.453896  2.029044  1.232623  0.000000   0.237928  1.232297   \n",
       "Kaohsiung  2.650629  2.242803  1.456984  0.237928   0.000000  1.339810   \n",
       "Hualien    1.556761  1.353564  0.978294  1.232297   1.339810  0.000000   \n",
       "Taitung    1.944559  1.691827  1.156241  0.955308   1.010305  0.403246   \n",
       "\n",
       "            Taitung  \n",
       "Taipei     1.944559  \n",
       "Hsinchu    1.691827  \n",
       "Taichung   1.156241  \n",
       "Tainan     0.955308  \n",
       "Kaohsiung  1.010305  \n",
       "Hualien    0.403246  \n",
       "Taitung    0.000000  "
      ]
     },
     "execution_count": 4,
     "metadata": {},
     "output_type": "execute_result"
    }
   ],
   "source": [
    "q=[[],[],[],[],[],[],[]]\n",
    "for i in range(len(Word.index)):\n",
    "    for j in range(len(Word.index)):\n",
    "        a = float(getDistance(Word.iat[i,0], Word.iat[i,1], Word.iat[j,0], Word.iat[j,1]))\n",
    "        q[i].append(a)  \n",
    "print(q)\n",
    "\n",
    "index = ['Taipei','Hsinchu','Taichung','Tainan','Kaohsiung','Hualien','Taitung']\n",
    "columns = ['Taipei','Hsinchu','Taichung','Tainan','Kaohsiung','Hualien','Taitung']\n",
    "zzz = pd.DataFrame(q,index,columns)\n",
    "zzz"
   ]
  },
  {
   "cell_type": "markdown",
   "id": "457b7516",
   "metadata": {},
   "source": [
    "# MDS轉換"
   ]
  },
  {
   "cell_type": "code",
   "execution_count": 5,
   "id": "1b10e58b",
   "metadata": {},
   "outputs": [
    {
     "name": "stderr",
     "output_type": "stream",
     "text": [
      "/home/jupyter12/.conda/envs/ML_HW3/lib/python3.10/site-packages/sklearn/manifold/_mds.py:506: UserWarning: The MDS API has changed. ``fit`` now constructs an dissimilarity matrix from data. To use a custom dissimilarity matrix, set ``dissimilarity='precomputed'``.\n",
      "  warnings.warn(\n"
     ]
    },
    {
     "data": {
      "text/html": [
       "<style>#sk-container-id-1 {color: black;background-color: white;}#sk-container-id-1 pre{padding: 0;}#sk-container-id-1 div.sk-toggleable {background-color: white;}#sk-container-id-1 label.sk-toggleable__label {cursor: pointer;display: block;width: 100%;margin-bottom: 0;padding: 0.3em;box-sizing: border-box;text-align: center;}#sk-container-id-1 label.sk-toggleable__label-arrow:before {content: \"▸\";float: left;margin-right: 0.25em;color: #696969;}#sk-container-id-1 label.sk-toggleable__label-arrow:hover:before {color: black;}#sk-container-id-1 div.sk-estimator:hover label.sk-toggleable__label-arrow:before {color: black;}#sk-container-id-1 div.sk-toggleable__content {max-height: 0;max-width: 0;overflow: hidden;text-align: left;background-color: #f0f8ff;}#sk-container-id-1 div.sk-toggleable__content pre {margin: 0.2em;color: black;border-radius: 0.25em;background-color: #f0f8ff;}#sk-container-id-1 input.sk-toggleable__control:checked~div.sk-toggleable__content {max-height: 200px;max-width: 100%;overflow: auto;}#sk-container-id-1 input.sk-toggleable__control:checked~label.sk-toggleable__label-arrow:before {content: \"▾\";}#sk-container-id-1 div.sk-estimator input.sk-toggleable__control:checked~label.sk-toggleable__label {background-color: #d4ebff;}#sk-container-id-1 div.sk-label input.sk-toggleable__control:checked~label.sk-toggleable__label {background-color: #d4ebff;}#sk-container-id-1 input.sk-hidden--visually {border: 0;clip: rect(1px 1px 1px 1px);clip: rect(1px, 1px, 1px, 1px);height: 1px;margin: -1px;overflow: hidden;padding: 0;position: absolute;width: 1px;}#sk-container-id-1 div.sk-estimator {font-family: monospace;background-color: #f0f8ff;border: 1px dotted black;border-radius: 0.25em;box-sizing: border-box;margin-bottom: 0.5em;}#sk-container-id-1 div.sk-estimator:hover {background-color: #d4ebff;}#sk-container-id-1 div.sk-parallel-item::after {content: \"\";width: 100%;border-bottom: 1px solid gray;flex-grow: 1;}#sk-container-id-1 div.sk-label:hover label.sk-toggleable__label {background-color: #d4ebff;}#sk-container-id-1 div.sk-serial::before {content: \"\";position: absolute;border-left: 1px solid gray;box-sizing: border-box;top: 0;bottom: 0;left: 50%;z-index: 0;}#sk-container-id-1 div.sk-serial {display: flex;flex-direction: column;align-items: center;background-color: white;padding-right: 0.2em;padding-left: 0.2em;position: relative;}#sk-container-id-1 div.sk-item {position: relative;z-index: 1;}#sk-container-id-1 div.sk-parallel {display: flex;align-items: stretch;justify-content: center;background-color: white;position: relative;}#sk-container-id-1 div.sk-item::before, #sk-container-id-1 div.sk-parallel-item::before {content: \"\";position: absolute;border-left: 1px solid gray;box-sizing: border-box;top: 0;bottom: 0;left: 50%;z-index: -1;}#sk-container-id-1 div.sk-parallel-item {display: flex;flex-direction: column;z-index: 1;position: relative;background-color: white;}#sk-container-id-1 div.sk-parallel-item:first-child::after {align-self: flex-end;width: 50%;}#sk-container-id-1 div.sk-parallel-item:last-child::after {align-self: flex-start;width: 50%;}#sk-container-id-1 div.sk-parallel-item:only-child::after {width: 0;}#sk-container-id-1 div.sk-dashed-wrapped {border: 1px dashed gray;margin: 0 0.4em 0.5em 0.4em;box-sizing: border-box;padding-bottom: 0.4em;background-color: white;}#sk-container-id-1 div.sk-label label {font-family: monospace;font-weight: bold;display: inline-block;line-height: 1.2em;}#sk-container-id-1 div.sk-label-container {text-align: center;}#sk-container-id-1 div.sk-container {/* jupyter's `normalize.less` sets `[hidden] { display: none; }` but bootstrap.min.css set `[hidden] { display: none !important; }` so we also need the `!important` here to be able to override the default hidden behavior on the sphinx rendered scikit-learn.org. See: https://github.com/scikit-learn/scikit-learn/issues/21755 */display: inline-block !important;position: relative;}#sk-container-id-1 div.sk-text-repr-fallback {display: none;}</style><div id=\"sk-container-id-1\" class=\"sk-top-container\"><div class=\"sk-text-repr-fallback\"><pre>MDS()</pre><b>In a Jupyter environment, please rerun this cell to show the HTML representation or trust the notebook. <br />On GitHub, the HTML representation is unable to render, please try loading this page with nbviewer.org.</b></div><div class=\"sk-container\" hidden><div class=\"sk-item\"><div class=\"sk-estimator sk-toggleable\"><input class=\"sk-toggleable__control sk-hidden--visually\" id=\"sk-estimator-id-1\" type=\"checkbox\" checked><label for=\"sk-estimator-id-1\" class=\"sk-toggleable__label sk-toggleable__label-arrow\">MDS</label><div class=\"sk-toggleable__content\"><pre>MDS()</pre></div></div></div></div></div>"
      ],
      "text/plain": [
       "MDS()"
      ]
     },
     "execution_count": 5,
     "metadata": {},
     "output_type": "execute_result"
    }
   ],
   "source": [
    "mds = MDS()\n",
    "mds.fit(q)"
   ]
  },
  {
   "cell_type": "code",
   "execution_count": 6,
   "id": "5a07a4e9",
   "metadata": {},
   "outputs": [
    {
     "name": "stdout",
     "output_type": "stream",
     "text": [
      "[[-2.75899756  0.62542614]\n",
      " [-2.16141213 -0.05885279]\n",
      " [-0.56431567 -0.26796734]\n",
      " [ 1.70707952 -1.12121398]\n",
      " [ 2.11764029 -0.99528399]\n",
      " [ 0.4605456   1.06089646]\n",
      " [ 1.19945996  0.75699549]]\n"
     ]
    }
   ],
   "source": [
    "a = mds.embedding_\n",
    "print(a)"
   ]
  },
  {
   "cell_type": "markdown",
   "id": "513ae5a2",
   "metadata": {},
   "source": [
    "# 繪製結果"
   ]
  },
  {
   "cell_type": "code",
   "execution_count": 7,
   "id": "fc5563b4",
   "metadata": {},
   "outputs": [
    {
     "data": {
      "image/png": "[encoded data removed]",
      "text/plain": [
       "<Figure size 432x288 with 1 Axes>"
      ]
     },
     "metadata": {
      "needs_background": "light"
     },
     "output_type": "display_data"
    }
   ],
   "source": [
    "for i in range(int(np.size(a) / 2)):\n",
    "    plt.scatter(a[i,0],a[i,1],label=index[i])\n",
    "plt.legend()\n",
    "#y_major_locator = MultipleLocator(50)\n",
    "#ay=plt.gca()\n",
    "#ay.yaxis.set_major_locator(y_major_locator)\n",
    "\n",
    "plt.show()"
   ]
  },
  {
   "cell_type": "code",
   "execution_count": 8,
   "id": "34886d54",
   "metadata": {},
   "outputs": [
    {
     "data": {
      "text/plain": [
       "7"
      ]
     },
     "execution_count": 8,
     "metadata": {},
     "output_type": "execute_result"
    }
   ],
   "source": [
    "int(np.size(a) / 2)"
   ]
  },
  {
   "cell_type": "code",
   "execution_count": null,
   "id": "77331112",
   "metadata": {},
   "outputs": [],
   "source": []
  },
  {
   "cell_type": "code",
   "execution_count": null,
   "id": "1f19957d",
   "metadata": {},
   "outputs": [],
   "source": []
  }
 ],
 "metadata": {
  "kernelspec": {
   "display_name": "Python [conda env:.conda-ML_HW3]",
   "language": "python",
   "name": "conda-env-.conda-ML_HW3-py"
  },
  "language_info": {
   "codemirror_mode": {
    "name": "ipython",
    "version": 3
   },
   "file_extension": ".py",
   "mimetype": "text/x-python",
   "name": "python",
   "nbconvert_exporter": "python",
   "pygments_lexer": "ipython3",
   "version": "3.10.4"
  }
 },
 "nbformat": 4,
 "nbformat_minor": 5
}
